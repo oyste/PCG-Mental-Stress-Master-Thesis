{
 "cells": [
  {
   "cell_type": "code",
   "execution_count": 48,
   "metadata": {},
   "outputs": [],
   "source": [
    "import pandas as pd\n",
    "labels = pd.read_pickle('labels.pkl')"
   ]
  },
  {
   "cell_type": "code",
   "execution_count": 49,
   "metadata": {},
   "outputs": [],
   "source": [
    "import librosa as lr\n",
    "phs1, _ = lr.load('ekoduo_rec.wav', sr=4000)"
   ]
  },
  {
   "cell_type": "code",
   "execution_count": 50,
   "metadata": {},
   "outputs": [
    {
     "name": "stdout",
     "output_type": "stream",
     "text": [
      "120.0\n"
     ]
    }
   ],
   "source": [
    "print(len(phs1)/4000)"
   ]
  },
  {
   "cell_type": "code",
   "execution_count": 51,
   "metadata": {},
   "outputs": [
    {
     "data": {
      "text/plain": [
       "Text(0, 0.5, 'PSD [dB/Hz]')"
      ]
     },
     "execution_count": 51,
     "metadata": {},
     "output_type": "execute_result"
    }
   ],
   "source": [
    "import matplotlib.pyplot as plt\n",
    "plt.figure(figsize=(20, 10))\n",
    "plt.psd(phs1, Fs=4000, NFFT=2**12)\n",
    "plt.legend(['Eko Duo Wireless Unmodified'], fontsize=15)\n",
    "plt.xlim([0, 500])\n",
    "plt.xlabel('Frequency [Hz]', size=15)\n",
    "plt.ylabel('PSD [dB/Hz]', size=15)"
   ]
  },
  {
   "cell_type": "code",
   "execution_count": 52,
   "metadata": {},
   "outputs": [],
   "source": [
    "import numpy as np\n",
    "import librosa as lr\n",
    "%matplotlib qt\n",
    "sr = 2000\n",
    "high = np.load('pcg/P003_S001_001.npy')\n",
    "low = np.load('pcg/P003_S002_001.npy')\n",
    "phs1, _ = lr.load('a0007.wav', sr=sr)\n",
    "phs2, _ = lr.load('e00026.wav', sr=sr)\n",
    "import helper_functions as hf\n",
    "pcg_dict1 = {'low': low, 'high': high}\n",
    "d1 = hf.resample_and_normalize(pcg_dict=pcg_dict1, from_freq=22050, to_freq=sr)\n",
    "T = sr*8\n",
    "import matplotlib.pyplot as plt\n",
    "plt.figure(figsize=(20, 10))\n",
    "plt.psd(phs2[:T], Fs=2000, NFFT=2**12)\n",
    "plt.psd(phs1[:T], Fs=2000, NFFT=2**12)\n",
    "plt.psd(d1['high'][:T], Fs=2000, NFFT=2**12)\n",
    "plt.psd(d1['low'][:T], Fs=2000, NFFT=2**12)\n",
    "\n",
    "#plt.axvline(x=50, color='r', linestyle='--')\n",
    "#plt.axvline(x=100, color='r', linestyle='--')\n",
    "#plt.axvline(x=150, color='r', linestyle='--')\n",
    "#plt.axvline(x=200, color='r', linestyle='--')\n",
    "#plt.axvline(x=250, color='r', linestyle='--')\n",
    "#plt.axvline(x=300, color='r', linestyle='--')\n",
    "#plt.axvline(x=350, color='r', linestyle='--')\n",
    "#plt.axvline(x=400, color='r', linestyle='--')\n",
    "#plt.axvline(x=450, color='r', linestyle='--')\n",
    "plt.legend(['e00026: Physionet Dataset', 'a0007: Physionet Dataset', 'P003_S001_001: Mental Stress Dataset', 'P003_S002_001: Mental Stress Dataset'], fontsize=15) #\n",
    "plt.xlim([0, 500])\n",
    "plt.xlabel('Frequency [Hz]', size=15)\n",
    "plt.ylabel('PSD [dB/Hz]', size=15)\n",
    "plt.xticks([0,50,60,100,120,150,180,200,240,250,300,350,360,400,420,450,480,500])\n",
    "plt.show()"
   ]
  },
  {
   "cell_type": "code",
   "execution_count": 53,
   "metadata": {},
   "outputs": [
    {
     "name": "stdout",
     "output_type": "stream",
     "text": [
      "(14812960,)\n"
     ]
    }
   ],
   "source": [
    "# concatenate all data in the dataset:\n",
    "import helper_functions as hf\n",
    "import numpy as np\n",
    "d, l = hf.get_pcg_data_and_labels(to_freq=1000, label_type='stai-3520', filter=False)\n",
    "all_data = []\n",
    "low_data = []\n",
    "high_data = []\n",
    "for k, v in d.items():\n",
    "    all_data.append(v)\n",
    "    if l[k] == 'low': low_data.append(v)\n",
    "    else: high_data.append(v)\n",
    "all_data = np.concatenate(all_data)\n",
    "low_data = np.concatenate(low_data)\n",
    "high_data = np.concatenate(high_data)\n",
    "print(all_data.shape)"
   ]
  },
  {
   "cell_type": "code",
   "execution_count": 54,
   "metadata": {},
   "outputs": [],
   "source": [
    "# plot the PSD of the data\n",
    "import matplotlib.pyplot as plt\n",
    "plt.figure(figsize=(20, 10))\n",
    "\n",
    "plt.psd(low_data, Fs=1000, NFFT=2**12)\n",
    "plt.psd(high_data, Fs=1000, NFFT=2**12)\n",
    "plt.psd(all_data, Fs=1000, NFFT=2**12)\n",
    "plt.legend(['Low stress labeled data STAI-3520', 'High stress labeled data STAI-3520', 'All data STAI-3520'], fontsize=15)\n",
    "plt.xlim([0, 500])\n",
    "plt.xlabel('Frequency [Hz]', size=15)\n",
    "plt.ylabel('PSD [dB/Hz]', size=15)\n",
    "plt.xticks([0,50,60,100,120,150,180,200,240,250,300,350,360,400,420,450,480,500])\n",
    "plt.show()"
   ]
  },
  {
   "cell_type": "code",
   "execution_count": 55,
   "metadata": {},
   "outputs": [
    {
     "name": "stdout",
     "output_type": "stream",
     "text": [
      "(25065400,)\n"
     ]
    }
   ],
   "source": [
    "import helper_functions as hf\n",
    "import numpy as np\n",
    "import matplotlib.pyplot as plt\n",
    "d, l = hf.get_pcg_data_and_labels(to_freq=1000, label_type='stai', filter=False)\n",
    "all_data = []\n",
    "for v in d.values():\n",
    "    all_data.append(v)\n",
    "all_data = np.concatenate(all_data)\n",
    "print(all_data.shape)"
   ]
  },
  {
   "cell_type": "code",
   "execution_count": 56,
   "metadata": {},
   "outputs": [
    {
     "data": {
      "text/plain": [
       "([<matplotlib.axis.XTick at 0x2da00ff5d80>,\n",
       "  <matplotlib.axis.XTick at 0x2da00ff5d50>,\n",
       "  <matplotlib.axis.XTick at 0x2da00ff48e0>,\n",
       "  <matplotlib.axis.XTick at 0x2da0100faf0>,\n",
       "  <matplotlib.axis.XTick at 0x2da0103c280>,\n",
       "  <matplotlib.axis.XTick at 0x2da0103c9d0>,\n",
       "  <matplotlib.axis.XTick at 0x2da0103d120>,\n",
       "  <matplotlib.axis.XTick at 0x2da0100fdc0>,\n",
       "  <matplotlib.axis.XTick at 0x2da0103d0f0>,\n",
       "  <matplotlib.axis.XTick at 0x2da0103c1f0>,\n",
       "  <matplotlib.axis.XTick at 0x2da0103de10>,\n",
       "  <matplotlib.axis.XTick at 0x2da0103e560>,\n",
       "  <matplotlib.axis.XTick at 0x2da0103ecb0>,\n",
       "  <matplotlib.axis.XTick at 0x2da0103f400>,\n",
       "  <matplotlib.axis.XTick at 0x2da0103f8e0>,\n",
       "  <matplotlib.axis.XTick at 0x2da0103e650>,\n",
       "  <matplotlib.axis.XTick at 0x2da0103c9a0>,\n",
       "  <matplotlib.axis.XTick at 0x2da010580a0>],\n",
       " [Text(0, 0, ''),\n",
       "  Text(0, 0, ''),\n",
       "  Text(0, 0, ''),\n",
       "  Text(0, 0, ''),\n",
       "  Text(0, 0, ''),\n",
       "  Text(0, 0, ''),\n",
       "  Text(0, 0, ''),\n",
       "  Text(0, 0, ''),\n",
       "  Text(0, 0, ''),\n",
       "  Text(0, 0, ''),\n",
       "  Text(0, 0, ''),\n",
       "  Text(0, 0, ''),\n",
       "  Text(0, 0, ''),\n",
       "  Text(0, 0, ''),\n",
       "  Text(0, 0, ''),\n",
       "  Text(0, 0, ''),\n",
       "  Text(0, 0, ''),\n",
       "  Text(0, 0, '')])"
      ]
     },
     "execution_count": 56,
     "metadata": {},
     "output_type": "execute_result"
    }
   ],
   "source": [
    "plt.figure(figsize=(20, 10))\n",
    "plt.psd(all_data, Fs=1000, NFFT=2**12)\n",
    "plt.xlabel('Frequency [Hz]', size=15)\n",
    "plt.ylabel('PSD [dB/Hz]', size=15)\n",
    "plt.xticks([0,50,60,100,120,150,180,200,240,250,300,350,360,400,420,450,480,500])"
   ]
  },
  {
   "cell_type": "code",
   "execution_count": 57,
   "metadata": {},
   "outputs": [
    {
     "data": {
      "text/plain": [
       "([<matplotlib.axis.XTick at 0x2da0107caf0>,\n",
       "  <matplotlib.axis.XTick at 0x2da0107cac0>,\n",
       "  <matplotlib.axis.XTick at 0x2da0107c1f0>,\n",
       "  <matplotlib.axis.XTick at 0x2da01332530>,\n",
       "  <matplotlib.axis.XTick at 0x2da01332c80>,\n",
       "  <matplotlib.axis.XTick at 0x2da013333d0>,\n",
       "  <matplotlib.axis.XTick at 0x2da01333b20>,\n",
       "  <matplotlib.axis.XTick at 0x2da01332920>,\n",
       "  <matplotlib.axis.XTick at 0x2da01358070>,\n",
       "  <matplotlib.axis.XTick at 0x2da013587c0>,\n",
       "  <matplotlib.axis.XTick at 0x2da01358f10>,\n",
       "  <matplotlib.axis.XTick at 0x2da01359660>,\n",
       "  <matplotlib.axis.XTick at 0x2da01359db0>,\n",
       "  <matplotlib.axis.XTick at 0x2da013327a0>,\n",
       "  <matplotlib.axis.XTick at 0x2da01359180>,\n",
       "  <matplotlib.axis.XTick at 0x2da0135a2c0>,\n",
       "  <matplotlib.axis.XTick at 0x2da0135aa10>],\n",
       " [Text(0, 0, ''),\n",
       "  Text(0, 0, ''),\n",
       "  Text(0, 0, ''),\n",
       "  Text(0, 0, ''),\n",
       "  Text(0, 0, ''),\n",
       "  Text(0, 0, ''),\n",
       "  Text(0, 0, ''),\n",
       "  Text(0, 0, ''),\n",
       "  Text(0, 0, ''),\n",
       "  Text(0, 0, ''),\n",
       "  Text(0, 0, ''),\n",
       "  Text(0, 0, ''),\n",
       "  Text(0, 0, ''),\n",
       "  Text(0, 0, ''),\n",
       "  Text(0, 0, ''),\n",
       "  Text(0, 0, ''),\n",
       "  Text(0, 0, '')])"
      ]
     },
     "execution_count": 57,
     "metadata": {},
     "output_type": "execute_result"
    }
   ],
   "source": [
    "bad_freqs= [50,60,100,120,150,180,200,240,250,300,350,360,400,420,450,480,500]\n",
    "thres = 7\n",
    "plt.figure(figsize=(20, 10))\n",
    "plt.psd(all_data, Fs=1000, NFFT=2**12)\n",
    "for e in bad_freqs:\n",
    "    plt.fill_betweenx([-20,-70], x1=e-thres, x2=e+thres, color='red', alpha=0.2)\n",
    "plt.xlabel('Frequency [Hz]', size=15)\n",
    "plt.ylabel('PSD [dB/Hz]', size=15)\n",
    "plt.ylim([-68, -22])\n",
    "plt.xticks(bad_freqs)"
   ]
  },
  {
   "cell_type": "code",
   "execution_count": 58,
   "metadata": {},
   "outputs": [],
   "source": [
    "from scipy.signal import iirnotch, filtfilt, iirpeak\n",
    "def notch(data, fs):\n",
    "    y = data\n",
    "    bad_freqs = [50, 60, 100, 120, 150, 180, 200, 240, 250]\n",
    "    for freq in bad_freqs:\n",
    "        if freq == 50:\n",
    "            b, a = iirnotch(freq, Q=700, fs=fs)\n",
    "            y = filtfilt(b, a, y)\n",
    "        if freq == 60:\n",
    "            b, a = iirnotch(freq, Q=2700, fs=fs)\n",
    "            y = filtfilt(b, a, y)\n",
    "        if freq == 100:\n",
    "            b, a = iirnotch(freq, Q=1700, fs=fs)\n",
    "            y = filtfilt(b, a, y)\n",
    "        if freq == 120:\n",
    "            b, a = iirnotch(freq, Q=1600, fs=fs)\n",
    "            y = filtfilt(b, a, y)\n",
    "        if freq == 150:\n",
    "            b, a = iirnotch(freq, Q=450, fs=fs)\n",
    "            y = filtfilt(b, a, y)\n",
    "        if freq == 180:\n",
    "            b, a = iirnotch(freq, Q=1200, fs=fs)\n",
    "            y = filtfilt(b, a, y)\n",
    "        if freq == 200:\n",
    "            b, a = iirnotch(freq, Q=2000, fs=fs)\n",
    "            y = filtfilt(b, a, y)\n",
    "        if freq == 240:\n",
    "            b, a = iirnotch(freq, Q=900, fs=fs)\n",
    "            y = filtfilt(b, a, y)\n",
    "        if freq == 250:\n",
    "            b, a = iirnotch(freq, Q=600, fs=fs)\n",
    "            y = filtfilt(b, a, y)\n",
    "    return y"
   ]
  },
  {
   "cell_type": "code",
   "execution_count": 59,
   "metadata": {},
   "outputs": [],
   "source": [
    "all_data_f = notch(all_data, 1000)"
   ]
  },
  {
   "cell_type": "code",
   "execution_count": 60,
   "metadata": {},
   "outputs": [],
   "source": [
    "plt.figure(figsize=(20, 10))\n",
    "plt.psd(all_data_f, Fs=1000, NFFT=2**12)\n",
    "plt.xlabel('Frequency [Hz]')\n",
    "plt.ylabel('PSD [dB/Hz]')\n",
    "plt.show()"
   ]
  },
  {
   "cell_type": "code",
   "execution_count": 61,
   "metadata": {},
   "outputs": [],
   "source": [
    "import numpy as np\n",
    "import matplotlib.pyplot as plt\n",
    "import scipy.fftpack\n",
    "\n",
    "# Number of samplepoints\n",
    "N = all_data_f.shape[0]\n",
    "# sample spacing\n",
    "T = 1/1000\n",
    "x = np.linspace(0.0, N*T, N)\n",
    "yf = scipy.fftpack.fft(all_data_f)\n",
    "\n",
    "\n",
    "xf = np.linspace(0.0, 1.0/(2.0*T), N//2)\n",
    "\n",
    "fig, ax = plt.subplots()\n",
    "ax.plot(xf, 2.0/N * np.abs(yf[:N//2]))\n",
    "plt.xlim([0, 500])\n",
    "plt.show()"
   ]
  },
  {
   "cell_type": "code",
   "execution_count": 62,
   "metadata": {},
   "outputs": [],
   "source": [
    "import numpy as np\n",
    "import matplotlib.pyplot as plt\n",
    "import scipy.fftpack\n",
    "\n",
    "# Number of samplepoints\n",
    "N = all_data.shape[0]\n",
    "# sample spacing\n",
    "T = 1/500\n",
    "x = np.linspace(0.0, N*T, N)\n",
    "yf = scipy.fftpack.fft(all_data)\n",
    "\n",
    "\n",
    "xf = np.linspace(0.0, 1.0/(2.0*T), N//2)\n",
    "\n",
    "fig, ax = plt.subplots()\n",
    "ax.plot(xf, 2.0/N * np.abs(yf[:N//2]))\n",
    "plt.xlim([5, 250])\n",
    "plt.show()"
   ]
  }
 ],
 "metadata": {
  "kernelspec": {
   "display_name": "mne",
   "language": "python",
   "name": "python3"
  },
  "language_info": {
   "codemirror_mode": {
    "name": "ipython",
    "version": 3
   },
   "file_extension": ".py",
   "mimetype": "text/x-python",
   "name": "python",
   "nbconvert_exporter": "python",
   "pygments_lexer": "ipython3",
   "version": "3.10.6"
  },
  "orig_nbformat": 4,
  "vscode": {
   "interpreter": {
    "hash": "232747d838bbe1c2500b1d903cf77702b10fd6baaf8b83d5c87ffb59c1655f57"
   }
  }
 },
 "nbformat": 4,
 "nbformat_minor": 2
}
